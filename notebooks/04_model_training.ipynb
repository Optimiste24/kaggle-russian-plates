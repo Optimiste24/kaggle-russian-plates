{
 "cells": [
  {
   "cell_type": "markdown",
   "id": "4b5ef208-78c4-410a-a1e9-3b90478e2713",
   "metadata": {},
   "source": [
    "# Comparaison de Modèles - Russian Plates"
   ]
  },
  {
   "cell_type": "code",
   "execution_count": 2,
   "id": "4ee14d52-f88e-4423-901f-e90ef063fb60",
   "metadata": {},
   "outputs": [],
   "source": [
    "# Comparaison de Modèles - Russian Plates\n",
    "\n",
    "import numpy as np\n",
    "import pandas as pd\n",
    "from pathlib import Path\n",
    "import matplotlib.pyplot as plt\n",
    "from sklearn.model_selection import TimeSeriesSplit, cross_val_score\n",
    "from sklearn.metrics import make_scorer\n",
    "import joblib\n",
    "\n",
    "# Chargement des données\n",
    "data_path = Path(\"C:/Users/Optimiste/Videos/Concours/Prédiction_prix_plaques_russes/data\")\n",
    "\n",
    "train = pd.read_csv(data_path / \"train_preprocessed_v2.csv\")\n",
    "preprocessors = joblib.load(data_path / \"preprocessors.joblib\")\n"
   ]
  },
  {
   "cell_type": "code",
   "execution_count": 4,
   "id": "65705f39-a437-41d3-b4f7-7aaf63a8a2cd",
   "metadata": {},
   "outputs": [
    {
     "name": "stdout",
     "output_type": "stream",
     "text": [
      "\n",
      "Types des features :\n",
      "digits              float64\n",
      "region_encoded        int64\n",
      "season_encoded        int64\n",
      "is_gov_plate          int64\n",
      "premium_plate         int64\n",
      "plate_age_days      float64\n",
      "plate_age_months    float64\n",
      "premium_region        int64\n",
      "dtype: object\n"
     ]
    }
   ],
   "source": [
    "# Sélection des features NUMERIQUES uniquement\n",
    "numeric_features = [\n",
    "    'digits',\n",
    "    'region_encoded', \n",
    "    'season_encoded',\n",
    "    'is_gov_plate',\n",
    "    'premium_plate',\n",
    "    'plate_age_days',\n",
    "    'plate_age_months',\n",
    "    'premium_region'\n",
    "]\n",
    "\n",
    "X = train[numeric_features]\n",
    "y = train['log_price']\n",
    "\n",
    "# Vérification des types\n",
    "print(\"\\nTypes des features :\")\n",
    "print(X.dtypes)"
   ]
  },
  {
   "cell_type": "markdown",
   "id": "38d4aba1-d865-456e-8ab4-ec5439fd5893",
   "metadata": {},
   "source": [
    "---\n",
    "### 1. Métrique d'Évaluation (SMAPE)"
   ]
  },
  {
   "cell_type": "code",
   "execution_count": 7,
   "id": "ed11ea3b-61f3-4e7c-8547-40a19f362a21",
   "metadata": {},
   "outputs": [],
   "source": [
    "#  Métrique SMAPE Optimisée\n",
    "\n",
    "def smape(y_true, y_pred):\n",
    "    y_true, y_pred = np.expm1(y_true), np.expm1(y_pred)  # Conversion inverse du log\n",
    "    return 100 * np.mean(2 * np.abs(y_pred - y_true) / (np.abs(y_true) + np.abs(y_pred)))\n",
    "\n",
    "smape_scorer = make_scorer(smape, greater_is_better=False)"
   ]
  },
  {
   "cell_type": "markdown",
   "id": "630ef3b0-7128-4cd5-bb4a-e815a1690ee6",
   "metadata": {},
   "source": [
    "---\n",
    "### 2. Validation Croisée Temporelle"
   ]
  },
  {
   "cell_type": "code",
   "execution_count": 10,
   "id": "33167dfc-40ae-428e-ada7-6ee6bb137465",
   "metadata": {},
   "outputs": [],
   "source": [
    "tscv = TimeSeriesSplit(n_splits=5)"
   ]
  },
  {
   "cell_type": "markdown",
   "id": "9e72b225-766b-4436-85e0-c285d60efc44",
   "metadata": {},
   "source": [
    "---\n",
    "### 3. Essai des Modèles (Approche Systématique)"
   ]
  },
  {
   "cell_type": "code",
   "execution_count": 13,
   "id": "310cfb8a-fd4b-4414-8fbc-446131b496cd",
   "metadata": {},
   "outputs": [
    {
     "name": "stdout",
     "output_type": "stream",
     "text": [
      "Random Forest: SMAPE moyen = 61.4899\n",
      "Gradient Boosting: SMAPE moyen = 60.9980\n",
      "XGBoost: SMAPE moyen = 60.2765\n",
      "LightGBM: SMAPE moyen = 59.3303\n"
     ]
    }
   ],
   "source": [
    "#  Modèles Classiques\n",
    "from sklearn.ensemble import RandomForestRegressor, GradientBoostingRegressor\n",
    "from xgboost import XGBRegressor\n",
    "from lightgbm import LGBMRegressor\n",
    "\n",
    "models = {\n",
    "    \"Random Forest\": RandomForestRegressor(n_estimators=200, random_state=42),\n",
    "    \"Gradient Boosting\": GradientBoostingRegressor(n_estimators=200, random_state=42),\n",
    "    \"XGBoost\": XGBRegressor(n_estimators=200, random_state=42),\n",
    "    \"LightGBM\": LGBMRegressor(n_estimators=200, random_state=42)\n",
    "}\n",
    "\n",
    "results = {}\n",
    "for name, model in models.items():\n",
    "    try:\n",
    "        scores = cross_val_score(model, X, y, cv=tscv, scoring=smape_scorer, n_jobs=-1)\n",
    "        results[name] = -scores.mean()\n",
    "        print(f\"{name}: SMAPE moyen = {results[name]:.4f}\")\n",
    "    except Exception as e:\n",
    "        print(f\"Erreur avec {name}: {str(e)}\")\n",
    "        results[name] = np.nan"
   ]
  },
  {
   "cell_type": "markdown",
   "id": "895f1ffc-bc78-4428-95d5-be3c22c00487",
   "metadata": {},
   "source": [
    "---\n",
    "### 4. Approche Stratifiée Corrigée"
   ]
  },
  {
   "cell_type": "code",
   "execution_count": 15,
   "id": "347a2258-02d4-4ee3-9239-57a8a7a7af97",
   "metadata": {},
   "outputs": [
    {
     "name": "stdout",
     "output_type": "stream",
     "text": [
      "[LightGBM] [Info] Auto-choosing row-wise multi-threading, the overhead of testing was 0.000225 seconds.\n",
      "You can set `force_row_wise=true` to remove the overhead.\n",
      "And if memory is not enough, you can set `force_col_wise=true`.\n",
      "[LightGBM] [Info] Total Bins 499\n",
      "[LightGBM] [Info] Number of data points in the train set: 5661, number of used features: 5\n",
      "[LightGBM] [Info] Start training from score 11.785684\n"
     ]
    },
    {
     "name": "stderr",
     "output_type": "stream",
     "text": [
      "C:\\Users\\Optimiste\\.conda\\envs\\kaggle_plates\\lib\\site-packages\\sklearn\\utils\\validation.py:2739: UserWarning: X does not have valid feature names, but LGBMRegressor was fitted with feature names\n",
      "  warnings.warn(\n"
     ]
    },
    {
     "name": "stdout",
     "output_type": "stream",
     "text": [
      "[LightGBM] [Info] Auto-choosing row-wise multi-threading, the overhead of testing was 0.000367 seconds.\n",
      "You can set `force_row_wise=true` to remove the overhead.\n",
      "And if memory is not enough, you can set `force_col_wise=true`.\n",
      "[LightGBM] [Info] Total Bins 529\n",
      "[LightGBM] [Info] Number of data points in the train set: 11319, number of used features: 5\n",
      "[LightGBM] [Info] Start training from score 11.774214\n"
     ]
    },
    {
     "name": "stderr",
     "output_type": "stream",
     "text": [
      "C:\\Users\\Optimiste\\.conda\\envs\\kaggle_plates\\lib\\site-packages\\sklearn\\utils\\validation.py:2739: UserWarning: X does not have valid feature names, but LGBMRegressor was fitted with feature names\n",
      "  warnings.warn(\n"
     ]
    },
    {
     "name": "stdout",
     "output_type": "stream",
     "text": [
      "[LightGBM] [Info] Auto-choosing row-wise multi-threading, the overhead of testing was 0.000521 seconds.\n",
      "You can set `force_row_wise=true` to remove the overhead.\n",
      "And if memory is not enough, you can set `force_col_wise=true`.\n",
      "[LightGBM] [Info] Total Bins 529\n",
      "[LightGBM] [Info] Number of data points in the train set: 16977, number of used features: 5\n",
      "[LightGBM] [Info] Start training from score 11.767357\n"
     ]
    },
    {
     "name": "stderr",
     "output_type": "stream",
     "text": [
      "C:\\Users\\Optimiste\\.conda\\envs\\kaggle_plates\\lib\\site-packages\\sklearn\\utils\\validation.py:2739: UserWarning: X does not have valid feature names, but LGBMRegressor was fitted with feature names\n",
      "  warnings.warn(\n"
     ]
    },
    {
     "name": "stdout",
     "output_type": "stream",
     "text": [
      "[LightGBM] [Info] Auto-choosing row-wise multi-threading, the overhead of testing was 0.000623 seconds.\n",
      "You can set `force_row_wise=true` to remove the overhead.\n",
      "And if memory is not enough, you can set `force_col_wise=true`.\n",
      "[LightGBM] [Info] Total Bins 530\n",
      "[LightGBM] [Info] Number of data points in the train set: 22635, number of used features: 5\n",
      "[LightGBM] [Info] Start training from score 11.758516\n"
     ]
    },
    {
     "name": "stderr",
     "output_type": "stream",
     "text": [
      "C:\\Users\\Optimiste\\.conda\\envs\\kaggle_plates\\lib\\site-packages\\sklearn\\utils\\validation.py:2739: UserWarning: X does not have valid feature names, but LGBMRegressor was fitted with feature names\n",
      "  warnings.warn(\n"
     ]
    },
    {
     "name": "stdout",
     "output_type": "stream",
     "text": [
      "[LightGBM] [Info] Auto-choosing row-wise multi-threading, the overhead of testing was 0.001058 seconds.\n",
      "You can set `force_row_wise=true` to remove the overhead.\n",
      "And if memory is not enough, you can set `force_col_wise=true`.\n",
      "[LightGBM] [Info] Total Bins 529\n",
      "[LightGBM] [Info] Number of data points in the train set: 28293, number of used features: 5\n",
      "[LightGBM] [Info] Start training from score 11.759614\n",
      "\n",
      "Score stratifié: 60.1250\n"
     ]
    },
    {
     "name": "stderr",
     "output_type": "stream",
     "text": [
      "C:\\Users\\Optimiste\\.conda\\envs\\kaggle_plates\\lib\\site-packages\\sklearn\\utils\\validation.py:2739: UserWarning: X does not have valid feature names, but LGBMRegressor was fitted with feature names\n",
      "  warnings.warn(\n"
     ]
    }
   ],
   "source": [
    "# Modélisation Stratifiée\n",
    "\n",
    "from sklearn.preprocessing import StandardScaler, RobustScaler\n",
    "from sklearn.pipeline import make_pipeline\n",
    "\n",
    "# Séparation des données\n",
    "premium_idx = X['premium_plate'] == 1\n",
    "X_prem, y_prem = X[premium_idx], y[premium_idx]\n",
    "X_norm, y_norm = X[~premium_idx], y[~premium_idx]\n",
    "\n",
    "# Pipelines\n",
    "premium_pipe = make_pipeline(\n",
    "    RobustScaler(),\n",
    "    XGBRegressor(n_estimators=300, random_state=42)\n",
    ")\n",
    "\n",
    "normal_pipe = make_pipeline(\n",
    "    StandardScaler(),\n",
    "    LGBMRegressor(n_estimators=300, random_state=42)\n",
    ")\n",
    "\n",
    "# Évaluation\n",
    "prem_scores = cross_val_score(premium_pipe, X_prem, y_prem, cv=tscv, scoring=smape_scorer)\n",
    "norm_scores = cross_val_score(normal_pipe, X_norm, y_norm, cv=tscv, scoring=smape_scorer)\n",
    "\n",
    "weighted_score = (-prem_scores.mean() * len(X_prem) + -norm_scores.mean() * len(X_norm)) / len(X)\n",
    "results[\"Stratified\"] = weighted_score\n",
    "print(f\"\\nScore stratifié: {weighted_score:.4f}\")"
   ]
  },
  {
   "cell_type": "markdown",
   "id": "df1a8e4b-1f83-4055-a760-ad70e467b9c8",
   "metadata": {},
   "source": [
    "---\n",
    "### 5. Analyse des Résultats"
   ]
  },
  {
   "cell_type": "code",
   "execution_count": 19,
   "id": "dfaa90e3-2be6-4b2a-9136-3939014b455f",
   "metadata": {},
   "outputs": [
    {
     "data": {
      "image/png": "[encoded data removed]",
      "text/plain": [
       "<Figure size 640x480 with 1 Axes>"
      ]
     },
     "metadata": {},
     "output_type": "display_data"
    },
    {
     "name": "stdout",
     "output_type": "stream",
     "text": [
      "\n",
      "Meilleur modèle: LightGBM (SMAPE = 59.3303)\n"
     ]
    }
   ],
   "source": [
    "#  Comparaison des Performances\n",
    "\n",
    "import matplotlib.pyplot as plt\n",
    "\n",
    "pd.Series(results).sort_values().plot.barh(title=\"Comparaison des Modèles\")\n",
    "plt.xlabel(\"SMAPE (lower is better)\")\n",
    "plt.show()\n",
    "\n",
    "best_model_name = pd.Series(results).idxmin()\n",
    "print(f\"\\nMeilleur modèle: {best_model_name} (SMAPE = {results[best_model_name]:.4f})\")"
   ]
  },
  {
   "cell_type": "markdown",
   "id": "d904ab0a-98b1-4386-a09d-3b9156fc3c77",
   "metadata": {},
   "source": [
    "---\n",
    "## **Configuration LightGBM**"
   ]
  },
  {
   "cell_type": "code",
   "execution_count": 23,
   "id": "64c04eaa-7794-4baf-9e19-712589a68b75",
   "metadata": {},
   "outputs": [],
   "source": [
    "from lightgbm import LGBMRegressor\n",
    "\n",
    "lgbm_params = {\n",
    "    'force_row_wise': True,  # Réduit l'overhead\n",
    "    'verbosity': -1,         # Désactive les logs\n",
    "    'feature_name': list(X.columns),  # Corrige le warning\n",
    "    'random_state': 42\n",
    "}\n",
    "\n",
    "model = LGBMRegressor(**lgbm_params)"
   ]
  },
  {
   "cell_type": "code",
   "execution_count": 25,
   "id": "7eef774f-fa2c-4de0-ad99-188daca55034",
   "metadata": {},
   "outputs": [
    {
     "name": "stdout",
     "output_type": "stream",
     "text": [
      "Features utilisées : ['digits', 'region_encoded', 'season_encoded', 'is_gov_plate', 'premium_plate', 'plate_age_days', 'plate_age_months', 'premium_region']\n"
     ]
    }
   ],
   "source": [
    "# Validation des Features\n",
    "print(\"Features utilisées :\", X.columns.tolist())"
   ]
  },
  {
   "cell_type": "markdown",
   "id": "5e88edbf-aff2-46c5-a2f6-7776b8dbcc9b",
   "metadata": {},
   "source": [
    "## **Analyse du Score**"
   ]
  },
  {
   "cell_type": "code",
   "execution_count": 28,
   "id": "f127872d-9274-4cdf-bb33-da422811eefb",
   "metadata": {},
   "outputs": [],
   "source": [
    "# Vérifiez la transformation inverse des prédictions :\n",
    "\n",
    "def smape(y_true, y_pred):\n",
    "    y_true, y_pred = np.expm1(y_true), np.expm1(y_pred)  # Conversion log → RUB\n",
    "    return 100 * np.mean(2 * np.abs(y_pred - y_true) / (np.abs(y_true) + np.abs(y_pred)))"
   ]
  },
  {
   "cell_type": "markdown",
   "id": "16cc6e05-e3eb-488c-9b73-2551f678c2e2",
   "metadata": {},
   "source": [
    "```\n",
    "# Explorez les prédictions aberrantes :\n",
    "\n",
    "preds = model.predict(X)\n",
    "errors = np.abs(np.expm1(y) - np.expm1(preds))\n",
    "print(\"Top 5 erreurs :\", errors.sort_values(ascending=False).head())\n",
    "```\n"
   ]
  },
  {
   "cell_type": "code",
   "execution_count": 33,
   "id": "5af858f5-8b40-44df-a67d-f3ba3a1bf672",
   "metadata": {},
   "outputs": [
    {
     "name": "stdout",
     "output_type": "stream",
     "text": [
      "SMAPE final: 55.43\n"
     ]
    }
   ],
   "source": [
    "# 1. Préparation des données\n",
    "X = train[['digits', 'region_encoded', 'is_gov_plate', \n",
    "           'premium_plate', 'plate_age_days', 'premium_region']]\n",
    "X.columns = [f\"f{i}\" for i in range(X.shape[1])]  # Noms standardisés\n",
    "\n",
    "# 2. Modèle optimisé\n",
    "lgbm = LGBMRegressor(\n",
    "    n_estimators=500,\n",
    "    force_row_wise=True,\n",
    "    verbosity=-1,\n",
    "    random_state=42\n",
    ")\n",
    "\n",
    "# 3. Entraînement avec monitoring\n",
    "lgbm.fit(X, y, \n",
    "        eval_set=[(X, y)],\n",
    "        eval_metric='mape')\n",
    "\n",
    "# 4. Évaluation\n",
    "preds = lgbm.predict(X)\n",
    "print(f\"SMAPE final: {smape(y, preds):.2f}\")"
   ]
  },
  {
   "cell_type": "markdown",
   "id": "61e3b507-0724-4026-9f7f-77fd9389d6e0",
   "metadata": {},
   "source": [
    "## **Optimisation**"
   ]
  },
  {
   "cell_type": "code",
   "execution_count": null,
   "id": "93d71eca-f914-4de8-a9d6-4c3ceef19626",
   "metadata": {},
   "outputs": [],
   "source": [
    "from sklearn.model_selection import GridSearchCV\n",
    "\n",
    "param_grid = {\n",
    "    'n_estimators': [200, 300],\n",
    "    'max_depth': [5, 7]\n",
    "}\n",
    "grid_search = GridSearchCV(\n",
    "    LGBMRegressor(random_state=42),\n",
    "    param_grid,\n",
    "    cv=tscv,\n",
    "    scoring=smape_scorer\n",
    ")\n",
    "grid_search.fit(X, y)"
   ]
  },
  {
   "cell_type": "code",
   "execution_count": null,
   "id": "24951c92-b191-49a4-b922-9ac896366c07",
   "metadata": {},
   "outputs": [],
   "source": []
  },
  {
   "cell_type": "code",
   "execution_count": null,
   "id": "7cc693fd-1210-4a1a-a8ed-89e8715e6fbb",
   "metadata": {},
   "outputs": [],
   "source": [
    "## **Soumission**"
   ]
  },
  {
   "cell_type": "code",
   "execution_count": null,
   "id": "5231f3f8-9d41-4fdb-8fa4-004ea5886134",
   "metadata": {},
   "outputs": [],
   "source": [
    "test = pd.read_csv(\"../data/test_preprocessed_v2.csv\")\n",
    "best_model = grid_search.best_estimator_\n",
    "test_preds = np.expm1(best_model.predict(test[numeric_features]))\n",
    "\n",
    "pd.DataFrame({'ID': test['id'], 'Price': test_preds}).to_csv(\n",
    "    \"../output/submission.csv\", index=False)"
   ]
  },
  {
   "cell_type": "code",
   "execution_count": null,
   "id": "c34bf152-f9c1-4cb6-8ef6-ccaa26ef34cd",
   "metadata": {},
   "outputs": [],
   "source": []
  },
  {
   "cell_type": "markdown",
   "id": "5376f61a-101c-47c5-9a00-cd510dcc78b0",
   "metadata": {},
   "source": [
    "---\n",
    "### 6. Réseaux de Neurones (Approche Deep Learning)"
   ]
  },
  {
   "cell_type": "code",
   "execution_count": 22,
   "id": "732c4f6c-9097-4c28-a0ff-fe1a579efb1d",
   "metadata": {},
   "outputs": [
    {
     "ename": "ModuleNotFoundError",
     "evalue": "No module named 'tensorflow'",
     "output_type": "error",
     "traceback": [
      "\u001b[1;31m---------------------------------------------------------------------------\u001b[0m",
      "\u001b[1;31mModuleNotFoundError\u001b[0m                       Traceback (most recent call last)",
      "Cell \u001b[1;32mIn[22], line 3\u001b[0m\n\u001b[0;32m      1\u001b[0m \u001b[38;5;66;03m#  Réseau de Neurones\u001b[39;00m\n\u001b[1;32m----> 3\u001b[0m \u001b[38;5;28;01mfrom\u001b[39;00m\u001b[38;5;250m \u001b[39m\u001b[38;5;21;01mtensorflow\u001b[39;00m\u001b[38;5;21;01m.\u001b[39;00m\u001b[38;5;21;01mkeras\u001b[39;00m\u001b[38;5;21;01m.\u001b[39;00m\u001b[38;5;21;01mmodels\u001b[39;00m\u001b[38;5;250m \u001b[39m\u001b[38;5;28;01mimport\u001b[39;00m Sequential\n\u001b[0;32m      4\u001b[0m \u001b[38;5;28;01mfrom\u001b[39;00m\u001b[38;5;250m \u001b[39m\u001b[38;5;21;01mtensorflow\u001b[39;00m\u001b[38;5;21;01m.\u001b[39;00m\u001b[38;5;21;01mkeras\u001b[39;00m\u001b[38;5;21;01m.\u001b[39;00m\u001b[38;5;21;01mlayers\u001b[39;00m\u001b[38;5;250m \u001b[39m\u001b[38;5;28;01mimport\u001b[39;00m Dense, Dropout\n\u001b[0;32m      5\u001b[0m \u001b[38;5;28;01mfrom\u001b[39;00m\u001b[38;5;250m \u001b[39m\u001b[38;5;21;01mtensorflow\u001b[39;00m\u001b[38;5;21;01m.\u001b[39;00m\u001b[38;5;21;01mkeras\u001b[39;00m\u001b[38;5;21;01m.\u001b[39;00m\u001b[38;5;21;01mwrappers\u001b[39;00m\u001b[38;5;21;01m.\u001b[39;00m\u001b[38;5;21;01mscikit_learn\u001b[39;00m\u001b[38;5;250m \u001b[39m\u001b[38;5;28;01mimport\u001b[39;00m KerasRegressor\n",
      "\u001b[1;31mModuleNotFoundError\u001b[0m: No module named 'tensorflow'"
     ]
    }
   ],
   "source": [
    "#  Réseau de Neurones\n",
    "\n",
    "from tensorflow.keras.models import Sequential\n",
    "from tensorflow.keras.layers import Dense, Dropout\n",
    "from tensorflow.keras.wrappers.scikit_learn import KerasRegressor\n",
    "\n",
    "def build_nn():\n",
    "    model = Sequential([\n",
    "        Dense(128, activation='relu', input_shape=(X.shape[1],)),\n",
    "        Dropout(0.3),\n",
    "        Dense(64, activation='relu'),\n",
    "        Dense(1)\n",
    "    ])\n",
    "    model.compile(optimizer='adam', loss='mape')\n",
    "    return model\n",
    "\n",
    "nn = KerasRegressor(build_fn=build_nn, epochs=30, batch_size=32, verbose=0)\n",
    "nn_score = -cross_val_score(nn, X, y, cv=tscv, scoring=smape_scorer).mean()\n",
    "results[\"Neural Network\"] = nn_score"
   ]
  },
  {
   "cell_type": "code",
   "execution_count": null,
   "id": "c920bd1a-b23f-4262-af07-988881d46998",
   "metadata": {},
   "outputs": [],
   "source": []
  },
  {
   "cell_type": "code",
   "execution_count": null,
   "id": "6081b839-8f93-4d97-abe7-5a16c836d0d3",
   "metadata": {},
   "outputs": [],
   "source": []
  },
  {
   "cell_type": "code",
   "execution_count": null,
   "id": "51866f51-c9ed-49be-9a95-f4ec2c2b9bd2",
   "metadata": {},
   "outputs": [],
   "source": [
    "from lightgbm import LGBMRegressor\n",
    "\n",
    "lgbm_params = {\n",
    "    'force_row_wise': True,  # Réduit l'overhead\n",
    "    'verbosity': -1,         # Désactive les logs\n",
    "    'feature_name': list(X.columns),  # Corrige le warning\n",
    "    'random_state': 42\n",
    "}\n",
    "\n",
    "model = LGBMRegressor(**lgbm_params)"
   ]
  }
 ],
 "metadata": {
  "kernelspec": {
   "display_name": "Python [conda env:.conda-kaggle_plates]",
   "language": "python",
   "name": "conda-env-.conda-kaggle_plates-py"
  },
  "language_info": {
   "codemirror_mode": {
    "name": "ipython",
    "version": 3
   },
   "file_extension": ".py",
   "mimetype": "text/x-python",
   "name": "python",
   "nbconvert_exporter": "python",
   "pygments_lexer": "ipython3",
   "version": "3.9.21"
  }
 },
 "nbformat": 4,
 "nbformat_minor": 5
}
