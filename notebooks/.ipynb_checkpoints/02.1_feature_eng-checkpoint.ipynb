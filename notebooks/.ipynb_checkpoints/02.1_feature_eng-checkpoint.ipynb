{
 "cells": [
  {
   "cell_type": "markdown",
   "id": "a80d6660-33a6-4d5a-9f81-f65598b61c78",
   "metadata": {},
   "source": [
    "# **Suite** : Ingénierie des caractéristiques"
   ]
  },
  {
   "cell_type": "code",
   "execution_count": 2,
   "id": "68cc7d4c-68c3-4b27-9a20-6c9239d75fd0",
   "metadata": {},
   "outputs": [],
   "source": [
    "import pandas as pd\n",
    "import numpy as np\n",
    "from pathlib import Path\n",
    "\n",
    "# Chargement des données pré-nettoyées (output de l'EDA)\n",
    "data_path = Path(\"C:/Users/Optimiste/Videos/Concours/Prédiction_prix_plaques_russes/data\")\n",
    "train = pd.read_csv(data_path / \"train_eda.csv\") \n",
    "test = pd.read_csv(data_path / \"test_eda.csv\")"
   ]
  },
  {
   "cell_type": "code",
   "execution_count": 4,
   "id": "04bba982-3016-4155-8026-0d0a3db215fc",
   "metadata": {},
   "outputs": [
    {
     "name": "stdout",
     "output_type": "stream",
     "text": [
      "(51635, 13)\n",
      "   id      plate                 date   price letters  digits  region_code  \\\n",
      "0   1  X059CP797  2024-12-26 00:00:00   65000     XCP      59          797   \n",
      "1   2  Y800MH790  2024-07-12 21:31:37  100000     YMH     800          790   \n",
      "2   3   A212TX77  2024-04-18 00:00:00  290000     ATX     212           77   \n",
      "3   4  P001AY199  2025-01-03 00:27:15  680000     PAY       1          199   \n",
      "4   5  P001AY199  2025-01-10 09:32:41  750000     PAY       1          199   \n",
      "\n",
      "     region_name  is_gov_plate  has_road_advantage  gov_importance_level  \\\n",
      "0         Moscow             0                   0                     0   \n",
      "1  Moscow Oblast             0                   0                     0   \n",
      "2         Moscow             0                   0                     0   \n",
      "3         Moscow             0                   0                     0   \n",
      "4         Moscow             0                   0                     0   \n",
      "\n",
      "     month  is_magic  \n",
      "0  2024-12         0  \n",
      "1  2024-07         0  \n",
      "2  2024-04         0  \n",
      "3  2025-01         0  \n",
      "4  2025-01         0  \n"
     ]
    }
   ],
   "source": [
    "# Aperçu\n",
    "print(train.shape)\n",
    "print(train.head())"
   ]
  },
  {
   "cell_type": "markdown",
   "id": "79c96eed-ddc1-4f98-b923-efa4bfc9adcc",
   "metadata": {},
   "source": [
    "**Préparation des Données**"
   ]
  },
  {
   "cell_type": "code",
   "execution_count": 7,
   "id": "fdf14d5e-513f-4335-bef3-2984248bbe0e",
   "metadata": {},
   "outputs": [
    {
     "name": "stdout",
     "output_type": "stream",
     "text": [
      "\n",
      "Train - Dimensions: (51635, 13)\n",
      "Variables: ['id', 'plate', 'date', 'price', 'letters', 'digits', 'region_code', 'region_name', 'is_gov_plate', 'has_road_advantage', 'gov_importance_level', 'month', 'is_magic']\n",
      "Valeurs manquantes:\n",
      " id                      0\n",
      "plate                   0\n",
      "date                    0\n",
      "price                   0\n",
      "letters                 0\n",
      "digits                  0\n",
      "region_code             0\n",
      "region_name             0\n",
      "is_gov_plate            0\n",
      "has_road_advantage      0\n",
      "gov_importance_level    0\n",
      "month                   0\n",
      "is_magic                0\n",
      "dtype: int64\n",
      "Exemples:\n",
      "    id      plate                 date   price letters  digits  region_code  \\\n",
      "0   1  X059CP797  2024-12-26 00:00:00   65000     XCP      59          797   \n",
      "1   2  Y800MH790  2024-07-12 21:31:37  100000     YMH     800          790   \n",
      "\n",
      "     region_name  is_gov_plate  has_road_advantage  gov_importance_level  \\\n",
      "0         Moscow             0                   0                     0   \n",
      "1  Moscow Oblast             0                   0                     0   \n",
      "\n",
      "     month  is_magic  \n",
      "0  2024-12         0  \n",
      "1  2024-07         0  \n",
      "\n",
      "Test - Dimensions: (7695, 11)\n",
      "Variables: ['id', 'plate', 'date', 'price', 'letters', 'digits', 'region_code', 'region_name', 'is_gov_plate', 'has_road_advantage', 'gov_importance_level']\n",
      "Valeurs manquantes:\n",
      " id                         0\n",
      "plate                      0\n",
      "date                       0\n",
      "price                   7695\n",
      "letters                    0\n",
      "digits                     0\n",
      "region_code                0\n",
      "region_name                0\n",
      "is_gov_plate               0\n",
      "has_road_advantage         0\n",
      "gov_importance_level       0\n",
      "dtype: int64\n",
      "Exemples:\n",
      "       id      plate                 date  price letters  digits  region_code  \\\n",
      "0  51636  P700TT790  2025-01-27 00:00:00    NaN     PTT     700          790   \n",
      "1  51637  M081TX797  2025-02-10 00:00:00    NaN     MTX      81          797   \n",
      "\n",
      "     region_name  is_gov_plate  has_road_advantage  gov_importance_level  \n",
      "0  Moscow Oblast             0                   0                     0  \n",
      "1         Moscow             0                   0                     0  \n"
     ]
    }
   ],
   "source": [
    "# -------------------------------------------------------------------\n",
    "# 1. Vérification et Nettoyage Initial\n",
    "# -------------------------------------------------------------------\n",
    "def check_data(df, name):\n",
    "    print(f\"\\n{name} - Dimensions: {df.shape}\")\n",
    "    print(\"Variables:\", df.columns.tolist())\n",
    "    print(\"Valeurs manquantes:\\n\", df.isnull().sum())\n",
    "    print(\"Exemples:\\n\", df.head(2))\n",
    "\n",
    "check_data(train, \"Train\")\n",
    "check_data(test, \"Test\")"
   ]
  },
  {
   "cell_type": "code",
   "execution_count": 9,
   "id": "760a1eef-7352-4b37-8b1c-41f03a702964",
   "metadata": {},
   "outputs": [],
   "source": [
    "# -------------------------------------------------------------------\n",
    "# 2. Feature Engineering de Base (Appliqué aux deux datasets)\n",
    "# -------------------------------------------------------------------\n",
    "def basic_feature_engineering(df):\n",
    "    # Conversion des dates\n",
    "    df['date'] = pd.to_datetime(df['date'])\n",
    "    \n",
    "    # Extraction des composantes temporelles\n",
    "    df['year'] = df['date'].dt.year\n",
    "    df['month'] = df['date'].dt.month\n",
    "    df['day_of_week'] = df['date'].dt.dayofweek  # 0=Lundi\n",
    "    \n",
    "    # Segmentation des plaques\n",
    "    df['plate_prefix'] = df['letters'].str[:1]  # Première lettre\n",
    "    df['plate_suffix'] = df['letters'].str[-1:] # Dernière lettre\n",
    "    \n",
    "    # Valeurs numériques symboliques\n",
    "    df['is_angel_number'] = df['digits'].astype(str).apply(\n",
    "        lambda x: 1 if len(set(x)) == 1 else 0)  # Ex: 111, 777\n",
    "    \n",
    "    return df\n",
    "\n",
    "train = basic_feature_engineering(train)\n",
    "test = basic_feature_engineering(test)\n"
   ]
  },
  {
   "cell_type": "markdown",
   "id": "f972ea42-9d4d-486d-91fc-dbb9585793c4",
   "metadata": {},
   "source": [
    "**Analyse par Information Mutuelle (MI)**"
   ]
  },
  {
   "cell_type": "code",
   "execution_count": 12,
   "id": "4919a24b-da09-4b62-ae95-92b01f7ccedb",
   "metadata": {},
   "outputs": [
    {
     "name": "stdout",
     "output_type": "stream",
     "text": [
      "Features analysées: ['digits', 'region_code', 'is_gov_plate', 'has_road_advantage', 'gov_importance_level', 'is_magic', 'year', 'month', 'day_of_week', 'is_angel_number']\n"
     ]
    },
    {
     "data": {
      "image/png": "[encoded data removed]",
      "text/plain": [
       "<Figure size 1000x600 with 1 Axes>"
      ]
     },
     "metadata": {},
     "output_type": "display_data"
    },
    {
     "name": "stdout",
     "output_type": "stream",
     "text": [
      "\n",
      "Top 5 Features Prédictives:\n",
      "digits             0.322365\n",
      "region_code        0.283688\n",
      "is_angel_number    0.122583\n",
      "is_magic           0.097057\n",
      "year               0.048543\n",
      "Name: MI, dtype: float64\n",
      "\n",
      "Bottom 5 Features Peu Informatives:\n",
      "month                   0.045046\n",
      "gov_importance_level    0.018098\n",
      "day_of_week             0.014891\n",
      "is_gov_plate            0.013511\n",
      "has_road_advantage      0.006805\n",
      "Name: MI, dtype: float64\n",
      "\n",
      "Suggestions:\n",
      "- Features à conserver/approfondir: ['digits', 'region_code', 'is_angel_number']\n",
      "- Features potentiellement à supprimer: ['day_of_week', 'is_gov_plate', 'has_road_advantage']\n"
     ]
    }
   ],
   "source": [
    "import pandas as pd\n",
    "import numpy as np\n",
    "from sklearn.feature_selection import mutual_info_regression\n",
    "import matplotlib.pyplot as plt\n",
    "\n",
    "# -------------------------------------------------------------------\n",
    "# 1. Préparation des Features pour l'Analyse MI\n",
    "# -------------------------------------------------------------------\n",
    "# Liste des features candidates (numériques/encodées)\n",
    "features = [\n",
    "    'digits', 'region_code', 'is_gov_plate', \n",
    "    'has_road_advantage', 'gov_importance_level',\n",
    "    'is_magic', 'year', 'month', 'day_of_week',\n",
    "    'is_angel_number', 'letters_encoded', \n",
    "    'region_name_encoded', 'plate_prefix_encoded',\n",
    "    'plate_suffix_encoded'\n",
    "]\n",
    "\n",
    "# Vérification de la disponibilité des features\n",
    "available_features = [f for f in features if f in train.columns]\n",
    "print(\"Features analysées:\", available_features)\n",
    "\n",
    "# -------------------------------------------------------------------\n",
    "# 2. Calcul de l'Information Mutuelle\n",
    "# -------------------------------------------------------------------\n",
    "X = train[available_features]\n",
    "y = train['price']  # Cible numérique\n",
    "\n",
    "# Calcul MI (adapté aux variables mixtes)\n",
    "mi_scores = mutual_info_regression(X, y, random_state=42, n_neighbors=3)\n",
    "mi_scores = pd.Series(mi_scores, index=available_features, name=\"MI\")\n",
    "mi_scores = mi_scores.sort_values(ascending=False)\n",
    "\n",
    "# -------------------------------------------------------------------\n",
    "# 3. Visualisation des Résultats\n",
    "# -------------------------------------------------------------------\n",
    "plt.figure(figsize=(10, 6))\n",
    "mi_scores.plot.barh(color='skyblue')\n",
    "plt.title(\"Importance des Features par Information Mutuelle\", pad=20)\n",
    "plt.xlabel(\"Score MI (bits)\", labelpad=10)\n",
    "plt.ylabel(\"\")\n",
    "plt.grid(axis='x', linestyle='--', alpha=0.7)\n",
    "plt.tight_layout()\n",
    "plt.show()\n",
    "\n",
    "# -------------------------------------------------------------------\n",
    "# 4. Interprétation Stratégique\n",
    "# -------------------------------------------------------------------\n",
    "print(\"\\nTop 5 Features Prédictives:\")\n",
    "print(mi_scores.head(5))\n",
    "\n",
    "print(\"\\nBottom 5 Features Peu Informatives:\")\n",
    "print(mi_scores.tail(5))\n",
    "\n",
    "# Suggestions d'actions basées sur les résultats\n",
    "suggestions = {\n",
    "    'high_mi': mi_scores.index[:3].tolist(),\n",
    "    'low_mi': mi_scores.index[-3:].tolist()\n",
    "}\n",
    "print(\"\\nSuggestions:\")\n",
    "print(f\"- Features à conserver/approfondir: {suggestions['high_mi']}\")\n",
    "print(f\"- Features potentiellement à supprimer: {suggestions['low_mi']}\")"
   ]
  },
  {
   "cell_type": "markdown",
   "id": "82633919-2cdb-46fd-b337-e4830093ce0d",
   "metadata": {},
   "source": [
    "**Feature Engineering Ciblé Basé sur l'Information Mutuelle**"
   ]
  },
  {
   "cell_type": "code",
   "execution_count": 15,
   "id": "f426f3dd-21f5-4b2a-a3c9-75a060297298",
   "metadata": {},
   "outputs": [],
   "source": [
    "# Extraction de motifs avancés\n",
    "train['digit_sum'] = train['digits'].apply(lambda x: sum(int(d) for d in str(x)))\n",
    "train['digit_product'] = train['digits'].apply(lambda x: np.prod([int(d) for d in str(x)]))\n",
    "train['is_palindrome'] = train['digits'].astype(str).apply(lambda x: 1 if x == x[::-1] else 0)\n",
    "\n",
    "# Segmentation numérique\n",
    "def digit_category(x):\n",
    "    x = str(x)\n",
    "    if len(set(x)) == 1: return 'triple'  # 111, 777\n",
    "    if x in ['123', '456', '789']: return 'sequential'\n",
    "    if int(x) in range(100, 200): return '100s'\n",
    "    return 'other'\n",
    "\n",
    "train['digit_category'] = train['digits'].apply(digit_category)"
   ]
  },
  {
   "cell_type": "code",
   "execution_count": 17,
   "id": "4492f02f-ab5b-4525-9181-f20cb3a4bd60",
   "metadata": {},
   "outputs": [],
   "source": [
    "# Extraction de motifs avancés\n",
    "test['digit_sum'] = test['digits'].apply(lambda x: sum(int(d) for d in str(x)))\n",
    "test['digit_product'] = test['digits'].apply(lambda x: np.prod([int(d) for d in str(x)]))\n",
    "test['is_palindrome'] = test['digits'].astype(str).apply(lambda x: 1 if x == x[::-1] else 0)\n",
    "\n",
    "# Segmentation numérique\n",
    "def digit_category(x):\n",
    "    x = str(x)\n",
    "    if len(set(x)) == 1: return 'triple'  # 111, 777\n",
    "    if x in ['123', '456', '789']: return 'sequential'\n",
    "    if int(x) in range(100, 200): return '100s'\n",
    "    return 'other'\n",
    "\n",
    "test['digit_category'] = test['digits'].apply(digit_category)"
   ]
  },
  {
   "cell_type": "code",
   "execution_count": 19,
   "id": "ca52c3cb-216b-4284-a5f3-c599371e0291",
   "metadata": {},
   "outputs": [],
   "source": [
    "# Clustering géographique\n",
    "region_premium = {\n",
    "    77: 'moscow', \n",
    "    99: 'center', \n",
    "    78: 'spb',\n",
    "    797: 'crimea'  # Exemple\n",
    "}\n",
    "train['region_tier'] = train['region_code'].map(region_premium).fillna('standard')\n",
    "\n",
    "# Interaction avec digits\n",
    "train['premium_region_x_digits'] = train['region_code'].isin([77, 99]).astype(int) * train['digits']"
   ]
  },
  {
   "cell_type": "code",
   "execution_count": 21,
   "id": "6ec01044-e9ad-4981-8efc-e5c77bbb0b64",
   "metadata": {},
   "outputs": [],
   "source": [
    "# Clustering géographique\n",
    "region_premium = {\n",
    "    77: 'moscow', \n",
    "    99: 'center', \n",
    "    78: 'spb',\n",
    "    797: 'crimea'  # Exemple\n",
    "}\n",
    "test['region_tier'] = test['region_code'].map(region_premium).fillna('standard')\n",
    "\n",
    "# Interaction avec digits\n",
    "test['premium_region_x_digits'] = test['region_code'].isin([77, 99]).astype(int) * test['digits']"
   ]
  },
  {
   "cell_type": "code",
   "execution_count": 23,
   "id": "ddf498f5-b992-44e3-8a1e-8f373644c9f0",
   "metadata": {},
   "outputs": [],
   "source": [
    "# Extension aux nombres porte-bonheur russes\n",
    "lucky_numbers = [111, 222, 333, 777, 13, 7, 99]\n",
    "train['is_lucky_number'] = train['digits'].isin(lucky_numbers).astype(int)"
   ]
  },
  {
   "cell_type": "code",
   "execution_count": 25,
   "id": "7c902f9b-5c8e-4959-b6f6-143a0d155807",
   "metadata": {},
   "outputs": [],
   "source": [
    "# Extension aux nombres porte-bonheur russes\n",
    "lucky_numbers = [111, 222, 333, 777, 13, 7, 99]\n",
    "test['is_lucky_number'] = test['digits'].isin(lucky_numbers).astype(int)"
   ]
  },
  {
   "cell_type": "markdown",
   "id": "0633312b-21f3-4ab4-b8a5-48fc63857926",
   "metadata": {},
   "source": [
    "**Gestion des Features Peu Informatifs**"
   ]
  },
  {
   "cell_type": "code",
   "execution_count": 28,
   "id": "5ba8453e-b9ba-4055-ac67-207f7487b1e5",
   "metadata": {},
   "outputs": [],
   "source": [
    "features_to_drop = ['day_of_week', 'is_gov_plate', 'has_road_advantage']\n",
    "train = train.drop(columns=features_to_drop)\n",
    "test = test.drop(columns=features_to_drop)"
   ]
  },
  {
   "cell_type": "code",
   "execution_count": 30,
   "id": "37e56aa7-fefe-47fa-9a22-c2075dad6179",
   "metadata": {},
   "outputs": [],
   "source": [
    "# Score de prestige alphanumérique\n",
    "def prestige_score(row):\n",
    "    letter_val = sum(ord(c) for c in row['letters'])  # Valeur ASCII\n",
    "    digit_val = row['digits'] / 100\n",
    "    return letter_val + digit_val\n",
    "\n",
    "train['prestige_score'] = train.apply(prestige_score, axis=1)"
   ]
  },
  {
   "cell_type": "code",
   "execution_count": 32,
   "id": "37971997-42dd-4935-bd4b-576f4b73e6c3",
   "metadata": {},
   "outputs": [],
   "source": [
    "# Score de prestige alphanumérique\n",
    "def prestige_score(row):\n",
    "    letter_val = sum(ord(c) for c in row['letters'])  # Valeur ASCII\n",
    "    digit_val = row['digits'] / 100\n",
    "    return letter_val + digit_val\n",
    "\n",
    "test['prestige_score'] = test.apply(prestige_score, axis=1)"
   ]
  },
  {
   "cell_type": "code",
   "execution_count": 34,
   "id": "7bbe0890-7819-4d3d-b202-e66a0c42b18b",
   "metadata": {},
   "outputs": [],
   "source": [
    "# Périodes fiscales russes\n",
    "train['is_year_end'] = train['month'].isin([12, 1]).astype(int)\n",
    "\n",
    "test['is_year_end'] = test['month'].isin([12, 1]).astype(int)"
   ]
  },
  {
   "cell_type": "markdown",
   "id": "49123d33-816e-4918-9b4e-843936fdd870",
   "metadata": {},
   "source": [
    "**Validation des Nouveaux Features**"
   ]
  },
  {
   "cell_type": "code",
   "execution_count": 37,
   "id": "2e4df467-2ee8-4c6d-b287-09105e3520e3",
   "metadata": {},
   "outputs": [
    {
     "name": "stdout",
     "output_type": "stream",
     "text": [
      "\n",
      "Vérification des types:\n",
      "digit_sum                    int64\n",
      "digit_product                int64\n",
      "is_palindrome                int64\n",
      "digit_category_encoded       int64\n",
      "premium_region_x_digits      int64\n",
      "is_lucky_number              int64\n",
      "prestige_score             float64\n",
      "is_year_end                  int64\n",
      "region_tier_encoded          int64\n",
      "dtype: object\n",
      "\n",
      "Nouveaux scores MI:\n",
      "digit_product              0.209435\n",
      "prestige_score             0.142178\n",
      "digit_category_encoded     0.131298\n",
      "region_tier_encoded        0.129005\n",
      "digit_sum                  0.103167\n",
      "premium_region_x_digits    0.058091\n",
      "is_lucky_number            0.043217\n",
      "is_palindrome              0.042624\n",
      "is_year_end                0.019767\n",
      "Name: New MI, dtype: float64\n"
     ]
    }
   ],
   "source": [
    "from sklearn.feature_selection import mutual_info_regression\n",
    "from sklearn.preprocessing import LabelEncoder\n",
    "\n",
    "# 1. Encodage des variables catégorielles\n",
    "cat_features = ['digit_category', 'region_tier']  # Vos variables catégorielles\n",
    "for col in cat_features:\n",
    "    le = LabelEncoder()\n",
    "    train[col+'_encoded'] = le.fit_transform(train[col])\n",
    "\n",
    "# 2. Liste des nouveaux features NUMÉRIQUES uniquement\n",
    "new_numeric_features = [\n",
    "    'digit_sum', \n",
    "    'digit_product', \n",
    "    'is_palindrome',\n",
    "    'digit_category_encoded',  # Version encodée\n",
    "    'premium_region_x_digits',\n",
    "    'is_lucky_number',\n",
    "    'prestige_score',\n",
    "    'is_year_end',\n",
    "    'region_tier_encoded'  # Version encodée\n",
    "]\n",
    "\n",
    "# 3. Vérification des types\n",
    "print(\"\\nVérification des types:\")\n",
    "print(train[new_numeric_features].dtypes)\n",
    "\n",
    "# 4. Ré-analyse MI sur les données numériques\n",
    "X_new = train[new_numeric_features]\n",
    "mi_new = mutual_info_regression(X_new, train['price'])\n",
    "mi_results = pd.Series(mi_new, index=new_numeric_features, name=\"New MI\").sort_values(ascending=False)\n",
    "\n",
    "# 5. Affichage des résultats\n",
    "print(\"\\nNouveaux scores MI:\")\n",
    "print(mi_results)"
   ]
  },
  {
   "cell_type": "markdown",
   "id": "ca346bba-f86e-490d-99fd-f4ecf860c108",
   "metadata": {},
   "source": [
    "---\n",
    "\n",
    "## Feature Selection :"
   ]
  },
  {
   "cell_type": "code",
   "execution_count": 40,
   "id": "f4747b66-7067-4367-829b-5efac30335f3",
   "metadata": {},
   "outputs": [
    {
     "name": "stdout",
     "output_type": "stream",
     "text": [
      "\n",
      "Features à conserver: ['digit_product', 'prestige_score', 'digit_category_encoded', 'region_tier_encoded', 'digit_sum']\n"
     ]
    }
   ],
   "source": [
    "selected_features = mi_results[mi_results > 0.1].index.tolist()\n",
    "print(\"\\nFeatures à conserver:\", selected_features)"
   ]
  },
  {
   "cell_type": "markdown",
   "id": "fae40ba8-c541-4801-ac6b-2f6f794b90f0",
   "metadata": {},
   "source": [
    "**Pipeline d'Encodage :**"
   ]
  },
  {
   "cell_type": "code",
   "execution_count": 43,
   "id": "dabae377-0110-4ebf-b314-e6a4ca38e819",
   "metadata": {},
   "outputs": [],
   "source": [
    "from sklearn.pipeline import Pipeline\n",
    "from sklearn.compose import ColumnTransformer\n",
    "\n",
    "preprocessor = ColumnTransformer(\n",
    "    transformers=[\n",
    "        ('cat', LabelEncoder(), ['digit_category', 'region_tier']),\n",
    "        ('num', 'passthrough', new_numeric_features)\n",
    "    ])"
   ]
  },
  {
   "cell_type": "markdown",
   "id": "9222ac08-3d41-4e08-ab8f-8b4fa277b818",
   "metadata": {},
   "source": [
    "**Visualisation :**"
   ]
  },
  {
   "cell_type": "code",
   "execution_count": 46,
   "id": "293cd1fa-b722-4ae1-b783-4d46d0d36a86",
   "metadata": {},
   "outputs": [
    {
     "data": {
      "image/png": "[encoded data removed]",
      "text/plain": [
       "<Figure size 1000x600 with 1 Axes>"
      ]
     },
     "metadata": {},
     "output_type": "display_data"
    }
   ],
   "source": [
    "import seaborn as sns\n",
    "plt.figure(figsize=(10,6))\n",
    "sns.barplot(x=mi_results.values, y=mi_results.index)\n",
    "plt.title(\"Importance des Nouveaux Features\")\n",
    "plt.show()"
   ]
  },
  {
   "cell_type": "code",
   "execution_count": null,
   "id": "0400c4dd-eff4-4b99-8db0-cf3388c5cb94",
   "metadata": {},
   "outputs": [],
   "source": []
  },
  {
   "cell_type": "markdown",
   "id": "52e4c811-1fee-4691-a5e4-62f630768df5",
   "metadata": {},
   "source": [
    "---\n",
    "## Modélisation - Benchmark des Modèles et Stratégie de Soumission"
   ]
  },
  {
   "cell_type": "code",
   "execution_count": 69,
   "id": "0f34c4b9-51f8-4eca-8275-dceb7e77a1f3",
   "metadata": {},
   "outputs": [
    {
     "name": "stdout",
     "output_type": "stream",
     "text": [
      "Dimensions finales: (51635, 8)\n"
     ]
    }
   ],
   "source": [
    "final_features = [\n",
    "    # Top features MI\n",
    "    'digit_product',\n",
    "    'prestige_score',\n",
    "    'digit_category_encoded',\n",
    "    'region_tier_encoded',\n",
    "    'digit_sum',\n",
    "    \n",
    "    # Features de base conservés\n",
    "    'digits',\n",
    "    'region_code',\n",
    "    'is_angel_number'\n",
    "]\n",
    "\n",
    "# Vérification\n",
    "print(\"Dimensions finales:\", train[final_features].shape)"
   ]
  },
  {
   "cell_type": "code",
   "execution_count": 50,
   "id": "a7aff014-0fb8-49fa-95f8-27c0eee48f58",
   "metadata": {},
   "outputs": [],
   "source": [
    "# Option 1 : Utilisation de log(price)\n",
    "train['log_price'] = np.log1p(train['price'])\n",
    "y = train['log_price']  # Cible transformée\n",
    "\n",
    "# Option 2 : Prix brut (à comparer)\n",
    "# y = train['price']\n",
    "\n",
    "# Features sélectionnées\n",
    "X = train[final_features]"
   ]
  },
  {
   "cell_type": "code",
   "execution_count": null,
   "id": "ed6f9a8e-8d7a-4e95-bc59-979829f1f033",
   "metadata": {},
   "outputs": [],
   "source": []
  },
  {
   "cell_type": "code",
   "execution_count": 52,
   "id": "91ecf82c-dc24-48c2-b95c-478407457817",
   "metadata": {},
   "outputs": [],
   "source": [
    "import numpy as np\n",
    "import pandas as pd\n",
    "from sklearn.preprocessing import StandardScaler, OneHotEncoder\n",
    "from sklearn.compose import ColumnTransformer\n",
    "from sklearn.pipeline import make_pipeline\n",
    "from sklearn.ensemble import RandomForestRegressor, GradientBoostingRegressor\n",
    "from xgboost import XGBRegressor\n",
    "from lightgbm import LGBMRegressor\n",
    "from sklearn.model_selection import cross_val_score\n",
    "\n",
    "# 2. Définition des colonnes par type\n",
    "numeric_features = [f for f in final_features if f in ['digit_product', 'prestige_score', 'digit_sum', 'digits', 'region_code']]\n",
    "categorical_features = [f for f in final_features if f in ['digit_category_encoded', 'region_tier_encoded']]\n",
    "\n",
    "# Configuration commune\n",
    "preprocessor = ColumnTransformer(\n",
    "    transformers=[\n",
    "        ('num', StandardScaler(), numeric_features),\n",
    "        ('cat', OneHotEncoder(handle_unknown='ignore'), categorical_features)\n",
    "    ])\n",
    "\n",
    "models = {\n",
    "    \"RandomForest\": RandomForestRegressor(n_estimators=200, random_state=42),\n",
    "    \"GradientBoosting\": GradientBoostingRegressor(loss='absolute_error', n_estimators=200),\n",
    "    \"XGBoost\": XGBRegressor(objective='reg:absoluteerror', n_estimators=200),\n",
    "    \"LightGBM\": LGBMRegressor(objective='mape', num_leaves=31, n_estimators=200)\n",
    "}"
   ]
  },
  {
   "cell_type": "markdown",
   "id": "34ccff45-d84d-450b-bfcf-fd57ab9423c1",
   "metadata": {},
   "source": [
    "**Benchmark avec Validation Croisée**"
   ]
  },
  {
   "cell_type": "code",
   "execution_count": 55,
   "id": "55527e3e-021f-4119-930f-b9ddfd887230",
   "metadata": {},
   "outputs": [
    {
     "name": "stdout",
     "output_type": "stream",
     "text": [
      "[LightGBM] [Info] Auto-choosing row-wise multi-threading, the overhead of testing was 0.001401 seconds.\n",
      "You can set `force_row_wise=true` to remove the overhead.\n",
      "And if memory is not enough, you can set `force_col_wise=true`.\n",
      "[LightGBM] [Info] Total Bins 403\n",
      "[LightGBM] [Info] Number of data points in the train set: 41308, number of used features: 12\n",
      "[LightGBM] [Info] Start training from score 11.918397\n"
     ]
    },
    {
     "name": "stderr",
     "output_type": "stream",
     "text": [
      "C:\\Users\\Optimiste\\.conda\\envs\\kaggle_plates\\lib\\site-packages\\sklearn\\utils\\validation.py:2739: UserWarning: X does not have valid feature names, but LGBMRegressor was fitted with feature names\n",
      "  warnings.warn(\n"
     ]
    },
    {
     "name": "stdout",
     "output_type": "stream",
     "text": [
      "[LightGBM] [Info] Auto-choosing row-wise multi-threading, the overhead of testing was 0.001205 seconds.\n",
      "You can set `force_row_wise=true` to remove the overhead.\n",
      "And if memory is not enough, you can set `force_col_wise=true`.\n",
      "[LightGBM] [Info] Total Bins 403\n",
      "[LightGBM] [Info] Number of data points in the train set: 41308, number of used features: 12\n",
      "[LightGBM] [Info] Start training from score 11.918397\n"
     ]
    },
    {
     "name": "stderr",
     "output_type": "stream",
     "text": [
      "C:\\Users\\Optimiste\\.conda\\envs\\kaggle_plates\\lib\\site-packages\\sklearn\\utils\\validation.py:2739: UserWarning: X does not have valid feature names, but LGBMRegressor was fitted with feature names\n",
      "  warnings.warn(\n"
     ]
    },
    {
     "name": "stdout",
     "output_type": "stream",
     "text": [
      "[LightGBM] [Info] Auto-choosing row-wise multi-threading, the overhead of testing was 0.001169 seconds.\n",
      "You can set `force_row_wise=true` to remove the overhead.\n",
      "And if memory is not enough, you can set `force_col_wise=true`.\n",
      "[LightGBM] [Info] Total Bins 403\n",
      "[LightGBM] [Info] Number of data points in the train set: 41308, number of used features: 12\n",
      "[LightGBM] [Info] Start training from score 11.918397\n"
     ]
    },
    {
     "name": "stderr",
     "output_type": "stream",
     "text": [
      "C:\\Users\\Optimiste\\.conda\\envs\\kaggle_plates\\lib\\site-packages\\sklearn\\utils\\validation.py:2739: UserWarning: X does not have valid feature names, but LGBMRegressor was fitted with feature names\n",
      "  warnings.warn(\n"
     ]
    },
    {
     "name": "stdout",
     "output_type": "stream",
     "text": [
      "[LightGBM] [Info] Auto-choosing row-wise multi-threading, the overhead of testing was 0.001104 seconds.\n",
      "You can set `force_row_wise=true` to remove the overhead.\n",
      "And if memory is not enough, you can set `force_col_wise=true`.\n",
      "[LightGBM] [Info] Total Bins 403\n",
      "[LightGBM] [Info] Number of data points in the train set: 41308, number of used features: 12\n",
      "[LightGBM] [Info] Start training from score 11.918397\n"
     ]
    },
    {
     "name": "stderr",
     "output_type": "stream",
     "text": [
      "C:\\Users\\Optimiste\\.conda\\envs\\kaggle_plates\\lib\\site-packages\\sklearn\\utils\\validation.py:2739: UserWarning: X does not have valid feature names, but LGBMRegressor was fitted with feature names\n",
      "  warnings.warn(\n"
     ]
    },
    {
     "name": "stdout",
     "output_type": "stream",
     "text": [
      "[LightGBM] [Info] Auto-choosing row-wise multi-threading, the overhead of testing was 0.001120 seconds.\n",
      "You can set `force_row_wise=true` to remove the overhead.\n",
      "And if memory is not enough, you can set `force_col_wise=true`.\n",
      "[LightGBM] [Info] Total Bins 403\n",
      "[LightGBM] [Info] Number of data points in the train set: 41308, number of used features: 12\n",
      "[LightGBM] [Info] Start training from score 11.918397\n"
     ]
    },
    {
     "name": "stderr",
     "output_type": "stream",
     "text": [
      "C:\\Users\\Optimiste\\.conda\\envs\\kaggle_plates\\lib\\site-packages\\sklearn\\utils\\validation.py:2739: UserWarning: X does not have valid feature names, but LGBMRegressor was fitted with feature names\n",
      "  warnings.warn(\n"
     ]
    },
    {
     "data": {
      "text/html": [
       "<div>\n",
       "<style scoped>\n",
       "    .dataframe tbody tr th:only-of-type {\n",
       "        vertical-align: middle;\n",
       "    }\n",
       "\n",
       "    .dataframe tbody tr th {\n",
       "        vertical-align: top;\n",
       "    }\n",
       "\n",
       "    .dataframe thead th {\n",
       "        text-align: right;\n",
       "    }\n",
       "</style>\n",
       "<table border=\"1\" class=\"dataframe\">\n",
       "  <thead>\n",
       "    <tr style=\"text-align: right;\">\n",
       "      <th></th>\n",
       "      <th>MAPE</th>\n",
       "      <th>Std</th>\n",
       "    </tr>\n",
       "  </thead>\n",
       "  <tbody>\n",
       "    <tr>\n",
       "      <th>LightGBM</th>\n",
       "      <td>5.44</td>\n",
       "      <td>0.05</td>\n",
       "    </tr>\n",
       "    <tr>\n",
       "      <th>XGBoost</th>\n",
       "      <td>5.52</td>\n",
       "      <td>0.05</td>\n",
       "    </tr>\n",
       "    <tr>\n",
       "      <th>GradientBoosting</th>\n",
       "      <td>5.56</td>\n",
       "      <td>0.04</td>\n",
       "    </tr>\n",
       "    <tr>\n",
       "      <th>RandomForest</th>\n",
       "      <td>5.96</td>\n",
       "      <td>0.05</td>\n",
       "    </tr>\n",
       "  </tbody>\n",
       "</table>\n",
       "</div>"
      ],
      "text/plain": [
       "                  MAPE   Std\n",
       "LightGBM          5.44  0.05\n",
       "XGBoost           5.52  0.05\n",
       "GradientBoosting  5.56  0.04\n",
       "RandomForest      5.96  0.05"
      ]
     },
     "execution_count": 55,
     "metadata": {},
     "output_type": "execute_result"
    }
   ],
   "source": [
    "from sklearn.model_selection import cross_val_score\n",
    "import numpy as np\n",
    "\n",
    "results = {}\n",
    "for name, model in models.items():\n",
    "    pipeline = make_pipeline(preprocessor, model)\n",
    "    scores = cross_val_score(pipeline, X, y, cv=5, \n",
    "                           scoring='neg_mean_absolute_percentage_error')\n",
    "    results[name] = {\n",
    "        'MAPE': round(-scores.mean() * 100, 2),\n",
    "        'Std': round(scores.std() * 100, 2)\n",
    "    }\n",
    "\n",
    "# Affichage des résultats\n",
    "pd.DataFrame(results).T.sort_values('MAPE')"
   ]
  },
  {
   "cell_type": "code",
   "execution_count": null,
   "id": "d3573694-7cf3-4c1e-b3f3-7add24600ee6",
   "metadata": {},
   "outputs": [],
   "source": []
  }
 ],
 "metadata": {
  "kernelspec": {
   "display_name": "Python [conda env:.conda-kaggle_plates]",
   "language": "python",
   "name": "conda-env-.conda-kaggle_plates-py"
  },
  "language_info": {
   "codemirror_mode": {
    "name": "ipython",
    "version": 3
   },
   "file_extension": ".py",
   "mimetype": "text/x-python",
   "name": "python",
   "nbconvert_exporter": "python",
   "pygments_lexer": "ipython3",
   "version": "3.9.21"
  }
 },
 "nbformat": 4,
 "nbformat_minor": 5
}
